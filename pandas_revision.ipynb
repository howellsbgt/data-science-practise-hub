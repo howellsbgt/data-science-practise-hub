{
 "cells": [
  {
   "cell_type": "code",
   "execution_count": 37,
   "id": "760bf9b6",
   "metadata": {},
   "outputs": [
    {
     "name": "stdout",
     "output_type": "stream",
     "text": [
      "DatetimeIndex(['2025-01-01', '2025-01-02', '2025-01-03', '2025-01-04',\n",
      "               '2025-01-05', '2025-01-06'],\n",
      "              dtype='datetime64[ns]', freq='D')\n",
      "                   A         B         C         D\n",
      "2025-01-01 -0.745698  1.772811  0.618252 -0.993724\n",
      "2025-01-02  0.333734  0.302272 -1.911091  1.491937\n",
      "2025-01-03  1.213131 -0.413118 -1.721458  1.309918\n",
      "2025-01-04  0.779538  0.384805 -1.905333 -1.204342\n",
      "2025-01-05 -1.090522  0.441583 -0.944842  0.680963\n",
      "2025-01-06  0.304977 -0.938367 -1.238393 -1.022584\n",
      "                   A         B         C         D\n",
      "2025-01-05 -1.090522  0.441583 -0.944842  0.680963\n",
      "2025-01-06  0.304977 -0.938367 -1.238393 -1.022584\n"
     ]
    }
   ],
   "source": [
    "# pandas \n",
    "# Toggle copilot suggestions: Command Palette (Ctrl+Shift+P → type “Copilot: Disable”).\n",
    "#alt+enter = adds a new cell below\n",
    "import pandas as pd\n",
    "import numpy as np\n",
    "\n",
    "dates = pd.date_range('20250101', periods=6)\n",
    "df = pd.DataFrame(np.random.randn(6,4), index=dates, columns=list('ABCD'))\n",
    "print(dates)\n",
    "print(df)\n",
    "print(df.tail(2))\n",
    "\n",
    "\n"
   ]
  },
  {
   "cell_type": "code",
   "execution_count": null,
   "id": "bbb5be7e",
   "metadata": {},
   "outputs": [
    {
     "name": "stdout",
     "output_type": "stream",
     "text": [
      "                   A         B         C         D\n",
      "2025-01-06  0.304977 -0.938367 -1.238393 -1.022584\n",
      "2025-01-05 -1.090522  0.441583 -0.944842  0.680963\n",
      "2025-01-04  0.779538  0.384805 -1.905333 -1.204342\n",
      "2025-01-03  1.213131 -0.413118 -1.721458  1.309918\n",
      "2025-01-02  0.333734  0.302272 -1.911091  1.491937\n",
      "2025-01-01 -0.745698  1.772811  0.618252 -0.993724\n",
      "                   D         C         B         A\n",
      "2025-01-01 -0.993724  0.618252  1.772811 -0.745698\n",
      "2025-01-02  1.491937 -1.911091  0.302272  0.333734\n",
      "2025-01-03  1.309918 -1.721458 -0.413118  1.213131\n",
      "2025-01-04 -1.204342 -1.905333  0.384805  0.779538\n",
      "2025-01-05  0.680963 -0.944842  0.441583 -1.090522\n",
      "2025-01-06 -1.022584 -1.238393 -0.938367  0.304977\n"
     ]
    },
    {
     "ename": "",
     "evalue": "",
     "output_type": "error",
     "traceback": [
      "\u001b[1;31mThe Kernel crashed while executing code in the current cell or a previous cell. \n",
      "\u001b[1;31mPlease review the code in the cell(s) to identify a possible cause of the failure. \n",
      "\u001b[1;31mClick <a href='https://aka.ms/vscodeJupyterKernelCrash'>here</a> for more info. \n",
      "\u001b[1;31mView Jupyter <a href='command:jupyter.viewOutput'>log</a> for further details."
     ]
    }
   ],
   "source": [
    "df.describe\n",
    "print(df.sort_index(ascending=False))\n",
    "print(df.sort_index(axis=1, ascending=False))"
   ]
  },
  {
   "cell_type": "code",
   "execution_count": 36,
   "id": "23f18207",
   "metadata": {},
   "outputs": [
    {
     "name": "stdout",
     "output_type": "stream",
     "text": [
      "Hello\n"
     ]
    }
   ],
   "source": [
    "print('Hello')"
   ]
  }
 ],
 "metadata": {
  "kernelspec": {
   "display_name": "Python 3",
   "language": "python",
   "name": "python3"
  },
  "language_info": {
   "codemirror_mode": {
    "name": "ipython",
    "version": 3
   },
   "file_extension": ".py",
   "mimetype": "text/x-python",
   "name": "python",
   "nbconvert_exporter": "python",
   "pygments_lexer": "ipython3",
   "version": "3.11.13"
  }
 },
 "nbformat": 4,
 "nbformat_minor": 5
}
