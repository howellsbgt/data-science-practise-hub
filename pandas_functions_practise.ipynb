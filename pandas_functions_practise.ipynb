{
 "cells": [
  {
   "cell_type": "code",
   "execution_count": null,
   "id": "b5a72446",
   "metadata": {},
   "outputs": [
    {
     "data": {
      "text/plain": [
       "'Barnaby is name My'"
      ]
     },
     "execution_count": 12,
     "metadata": {},
     "output_type": "execute_result"
    }
   ],
   "source": [
    "import pandas as pd\n",
    "import numpy as np\n",
    "\n",
    "'''\n",
    "pandas functions practise along with some hackerrank problems\n",
    "'''\n",
    "\n",
    "def reverse_word(sentence):\n",
    "    words_list = sentence.split() #create list of words\n",
    "    reverse_list = words_list[::-1] # use slicing\n",
    "    reverse_sentence = ' '.join(reverse_list)\n",
    "    return reverse_sentence\n",
    "reverse_word('My name is Barnaby')"
   ]
  },
  {
   "cell_type": "code",
   "execution_count": 40,
   "id": "6e184d5c",
   "metadata": {},
   "outputs": [
    {
     "data": {
      "text/plain": [
       "8"
      ]
     },
     "execution_count": 40,
     "metadata": {},
     "output_type": "execute_result"
    }
   ],
   "source": [
    "def count_unique(nums): \n",
    "    unique_list = []\n",
    "    duplicates = []\n",
    "    for x in nums:\n",
    "   \n",
    "        if x not in unique_list:\n",
    "            unique_list.append(x) #create list of unique numbers\n",
    "        else:\n",
    "            duplicates.append(x)  # create list of dupicates\n",
    "        \n",
    "    # unique count is length of unique numbers taking away the numbers that also appear in duplicates\n",
    "    number_unique = len(unique_list) - len(set(duplicates))\n",
    "    \n",
    "    return number_unique\n",
    " \n",
    "  \n",
    "\n",
    "count_unique([1,2,3,4,4,4,5,5,5,5,5,55,6,7,8,9])"
   ]
  },
  {
   "cell_type": "code",
   "execution_count": 67,
   "id": "68555984",
   "metadata": {},
   "outputs": [
    {
     "name": "stdout",
     "output_type": "stream",
     "text": [
      "       amount\n",
      "name         \n",
      "Alice     300\n",
      "Bob       150\n"
     ]
    },
    {
     "data": {
      "text/plain": [
       "{'amount': {'Alice': 300, 'Bob': 150}}"
      ]
     },
     "execution_count": 67,
     "metadata": {},
     "output_type": "execute_result"
    }
   ],
   "source": [
    "\"\"\"\n",
    "Total Sales per Person function\n",
    "Returns a dictionary of total sales per person\n",
    "\"\"\"\n",
    "sales = [\n",
    "    {\"name\": \"Alice\", \"amount\": 200},\n",
    "    {\"name\": \"Bob\", \"amount\": 150},\n",
    "    {\"name\": \"Alice\", \"amount\": 100},\n",
    "]\n",
    "\n",
    "def  total_sales_per_person(sales):\n",
    "    df = pd.DataFrame(sales)\n",
    "    agg_df = df.groupby('name').agg({'amount': 'sum'})  #['amount'].sum()\n",
    "    print(agg_df)\n",
    "    return agg_df.to_dict()\n",
    "\n",
    "\n",
    "total_sales_per_person(sales)\n"
   ]
  },
  {
   "cell_type": "code",
   "execution_count": 139,
   "id": "04f5f9f3",
   "metadata": {},
   "outputs": [
    {
     "data": {
      "text/html": [
       "<div>\n",
       "<style scoped>\n",
       "    .dataframe tbody tr th:only-of-type {\n",
       "        vertical-align: middle;\n",
       "    }\n",
       "\n",
       "    .dataframe tbody tr th {\n",
       "        vertical-align: top;\n",
       "    }\n",
       "\n",
       "    .dataframe thead th {\n",
       "        text-align: right;\n",
       "    }\n",
       "</style>\n",
       "<table border=\"1\" class=\"dataframe\">\n",
       "  <thead>\n",
       "    <tr style=\"text-align: right;\">\n",
       "      <th></th>\n",
       "      <th>Avg Value</th>\n",
       "    </tr>\n",
       "    <tr>\n",
       "      <th>category</th>\n",
       "      <th></th>\n",
       "    </tr>\n",
       "  </thead>\n",
       "  <tbody>\n",
       "    <tr>\n",
       "      <th>C</th>\n",
       "      <td>50.0</td>\n",
       "    </tr>\n",
       "    <tr>\n",
       "      <th>B</th>\n",
       "      <td>30.0</td>\n",
       "    </tr>\n",
       "    <tr>\n",
       "      <th>A</th>\n",
       "      <td>20.0</td>\n",
       "    </tr>\n",
       "  </tbody>\n",
       "</table>\n",
       "</div>"
      ],
      "text/plain": [
       "          Avg Value\n",
       "category           \n",
       "C              50.0\n",
       "B              30.0\n",
       "A              20.0"
      ]
     },
     "execution_count": 139,
     "metadata": {},
     "output_type": "execute_result"
    }
   ],
   "source": [
    "\"\"\"\n",
    "Sorts DataFrame into average value by category (descending)\n",
    "\"\"\"\n",
    "df = pd.DataFrame({\n",
    "    'category': ['A', 'B', 'A', 'B', 'C'],\n",
    "    'value': [10, 20, 30, 40, 50]\n",
    "})\n",
    "\n",
    "def avg_by_category(df):\n",
    "    df_agg = df.groupby('category').agg({'value': 'mean'})\n",
    "    sorted_df = df_agg.sort_values(by='value', ascending = False)\n",
    "    return(sorted_df.rename(columns={'value':'Avg Value'}))\n",
    "\n",
    "avg_by_category(df)"
   ]
  },
  {
   "cell_type": "code",
   "execution_count": 95,
   "id": "28aaceba",
   "metadata": {},
   "outputs": [
    {
     "name": "stdout",
     "output_type": "stream",
     "text": [
      "✅ All tests passed\n"
     ]
    }
   ],
   "source": [
    "\"\"\"\n",
    "list = []\n",
    "list2= []\n",
    "def longest_increasing_subsequence(nums):\n",
    "\n",
    "    for x in range(len(nums)):\n",
    "        if nums[x] > nums[x-1]:\n",
    "            list.append(x)\n",
    "\n",
    "        elif nums[x] <= nums[x-1]:\n",
    "            list2.append(len(list))\n",
    "\n",
    "    return max(list2)\n",
    "\"\"\"\n",
    "def longest_increasing_subsequence(nums):\n",
    "    \"\"\"\n",
    "    Returns the length of the longest strictly increasing subsequence.\n",
    "    \"\"\"\n",
    "    if not nums:\n",
    "        return 0\n",
    "\n",
    "    n = len(nums)\n",
    "    dp = [1] * n  # dp[i] = LIS ending at index i\n",
    "\n",
    "    for i in range(1, n):\n",
    "        for j in range(i):\n",
    "            if nums[i] > nums[j]:\n",
    "                dp[i] = max(dp[i], dp[j] + 1)\n",
    "\n",
    "    return max(dp)\n",
    "\n",
    "\n",
    "#longest_increasing_subsequence([10, 9, 1,2,3,4,5,2, 5, 3, 7, 101, 18])  # Output: 4\n",
    "\n",
    "assert longest_increasing_subsequence([10,9,2,5,3,7,101,18]) == 4\n",
    "assert longest_increasing_subsequence([0,1,0,3,2,3]) == 4\n",
    "assert longest_increasing_subsequence([7,7,7,7]) == 1\n",
    "assert longest_increasing_subsequence([]) == 0\n",
    "print(\"✅ All tests passed\")\n",
    "\n"
   ]
  },
  {
   "cell_type": "code",
   "execution_count": 99,
   "id": "02df8bc3",
   "metadata": {},
   "outputs": [
    {
     "name": "stdout",
     "output_type": "stream",
     "text": [
      "[0, 4, 16, 36, 64, 100]\n"
     ]
    }
   ],
   "source": [
    "def even_numbers_squared(N):\n",
    "    even_squares = []\n",
    "    for x in range(N+1):\n",
    "        if x % 2 == 0:\n",
    "            even_squares.append(x**2)\n",
    "\n",
    "        else:\n",
    "            continue\n",
    "\n",
    "    return even_squares\n",
    "\n",
    "print(even_numbers_squared(11))"
   ]
  },
  {
   "cell_type": "code",
   "execution_count": 111,
   "id": "1c6f7dc6",
   "metadata": {},
   "outputs": [
    {
     "data": {
      "text/plain": [
       "np.float64(100.0)"
      ]
     },
     "execution_count": 111,
     "metadata": {},
     "output_type": "execute_result"
    }
   ],
   "source": [
    "def avg_greater_ten(nums):\n",
    "    v_nums = []\n",
    "    for num in nums:\n",
    "        if num >10:\n",
    "            v_nums.append(num)\n",
    "\n",
    "    return np.mean(v_nums)\n",
    "\n",
    "    \n",
    "avg_greater_ten([1, 100, 2,3,4,5])\n"
   ]
  },
  {
   "cell_type": "code",
   "execution_count": 121,
   "id": "7fc89f6a",
   "metadata": {},
   "outputs": [
    {
     "name": "stdout",
     "output_type": "stream",
     "text": [
      "{'Alice': 300, 'Bob': 150, 'Chris': 250}\n"
     ]
    }
   ],
   "source": [
    "sales = [\n",
    "    {\"name\": \"Alice\", \"amount\": 200},\n",
    "    {\"name\": \"Bob\", \"amount\": 150},\n",
    "    {\"name\": \"Alice\", \"amount\": 100},\n",
    "    {\"name\": \"Chris\", \"amount\": 250},\n",
    "]\n",
    "df = pd.DataFrame(sales)\n",
    "print(df.groupby('name')['amount'].sum().to_dict())\n",
    "\n"
   ]
  },
  {
   "cell_type": "code",
   "execution_count": 144,
   "id": "d54115c2",
   "metadata": {},
   "outputs": [
    {
     "name": "stdout",
     "output_type": "stream",
     "text": [
      "          value\n",
      "category       \n",
      "C          50.0\n",
      "B          30.0\n",
      "A          20.0\n"
     ]
    }
   ],
   "source": [
    "def avg_by_category(df):\n",
    "    df_agg = df.groupby('category').agg({'value': 'mean'})\n",
    "    sorted_df = df_agg.sort_values(by='value', ascending = False)\n",
    "    return(sorted_df.rename(columns={'value':'Avg Value'}))\n",
    "\n",
    "avg_by_category(df)\n",
    "\n",
    "df = pd.DataFrame({\n",
    "    'category': ['A','B','A','B','C'],\n",
    "    'value': [10,20,30,40,50]\n",
    "})\n",
    "df_agg = df.groupby('category').agg({'value': 'mean'})\n",
    "sorted_df = df_agg.sort_values(by='value', ascending = False)\n",
    "print(sorted_df)"
   ]
  },
  {
   "cell_type": "code",
   "execution_count": 149,
   "id": "716c05ff",
   "metadata": {},
   "outputs": [
    {
     "name": "stdout",
     "output_type": "stream",
     "text": [
      "    name  sales\n",
      "1    Bob    400\n",
      "2  Chris    300\n"
     ]
    }
   ],
   "source": [
    "df = pd.DataFrame({\n",
    "    'name': ['Alice','Bob','Chris','David'],\n",
    "    'sales': [100, 400, 300, 200]\n",
    "})\n",
    "mean = df.agg('sales').mean()\n",
    "print(df[df['sales'] > mean])\n"
   ]
  },
  {
   "cell_type": "code",
   "execution_count": 155,
   "id": "4e4aab0d",
   "metadata": {},
   "outputs": [
    {
     "name": "stdout",
     "output_type": "stream",
     "text": [
      "  region  total_revenue\n",
      "0   East          400.0\n",
      "1  North          400.0\n",
      "2  South            0.0\n"
     ]
    }
   ],
   "source": [
    "df = pd.DataFrame({\n",
    "    'region': ['North','South','North','East','South'],\n",
    "    'revenue': [100, np.nan, 300, 400, np.nan]\n",
    "})\n",
    "df['revenue'] = df['revenue'].fillna(0)\n",
    "df_agg = df.groupby('region', as_index=False)['revenue'].sum()\n",
    "df_agg = df_agg.rename(columns={'revenue': 'total_revenue'})\n",
    "\n",
    "print(df_agg)"
   ]
  },
  {
   "cell_type": "code",
   "execution_count": 178,
   "id": "95342f41",
   "metadata": {},
   "outputs": [
    {
     "name": "stdout",
     "output_type": "stream",
     "text": [
      "    name  total_spent  rank\n",
      "0  Alice          750   1.0\n",
      "2  Chris          400   2.0\n",
      "1    Bob          150   3.0\n",
      "Index(['name', 'total_spent', 'rank'], dtype='object')\n"
     ]
    }
   ],
   "source": [
    "customers = pd.DataFrame({\n",
    "    'id': [1, 2, 3],\n",
    "    'name': ['Alice', 'Bob', 'Chris']\n",
    "})\n",
    "\n",
    "orders = pd.DataFrame({\n",
    "    'order_id': [101, 102, 103, 104, 105],\n",
    "    'customer_id': [1, 2, 1, 3, 1],\n",
    "    'amount': [200, 150, 300, 400, 250]\n",
    "})\n",
    "\n",
    "df = pd.merge(orders, customers, right_on='id', left_on ='customer_id', how='inner')\n",
    "df_agg = df.groupby('name', as_index = False)['amount'].sum()\n",
    "df_sorted = df_agg.sort_values(by='amount', ascending = False).rename(columns={'amount': 'total_spent'})\n",
    "df_sorted['rank'] = df_sorted['total_spent'].rank(ascending=False)\n",
    "print(df_sorted)\n",
    "print(df_sorted.columns)"
   ]
  },
  {
   "cell_type": "code",
   "execution_count": 206,
   "id": "6504bfde",
   "metadata": {},
   "outputs": [
    {
     "data": {
      "text/html": [
       "<div>\n",
       "<style scoped>\n",
       "    .dataframe tbody tr th:only-of-type {\n",
       "        vertical-align: middle;\n",
       "    }\n",
       "\n",
       "    .dataframe tbody tr th {\n",
       "        vertical-align: top;\n",
       "    }\n",
       "\n",
       "    .dataframe thead th {\n",
       "        text-align: right;\n",
       "    }\n",
       "</style>\n",
       "<table border=\"1\" class=\"dataframe\">\n",
       "  <thead>\n",
       "    <tr style=\"text-align: right;\">\n",
       "      <th></th>\n",
       "      <th>genre</th>\n",
       "      <th>avg_watch_time</th>\n",
       "      <th>avg_rating</th>\n",
       "    </tr>\n",
       "  </thead>\n",
       "  <tbody>\n",
       "    <tr>\n",
       "      <th>1</th>\n",
       "      <td>Comedy</td>\n",
       "      <td>111.7</td>\n",
       "      <td>4.0</td>\n",
       "    </tr>\n",
       "    <tr>\n",
       "      <th>0</th>\n",
       "      <td>Action</td>\n",
       "      <td>60.0</td>\n",
       "      <td>4.0</td>\n",
       "    </tr>\n",
       "  </tbody>\n",
       "</table>\n",
       "</div>"
      ],
      "text/plain": [
       "    genre  avg_watch_time  avg_rating\n",
       "1  Comedy           111.7         4.0\n",
       "0  Action            60.0         4.0"
      ]
     },
     "execution_count": 206,
     "metadata": {},
     "output_type": "execute_result"
    }
   ],
   "source": [
    "df = pd.DataFrame({\n",
    "    'user': ['Alice', 'Bob', 'Alice', 'Chris', 'Bob', 'David', 'Alice', 'Eve'],\n",
    "    'genre': ['Drama', 'Comedy', 'Comedy', 'Action', np.nan, 'Drama', 'Action', 'Comedy'],\n",
    "    'watch_time': [120, 90, 45, 60, 100, 80, np.nan, 200],  # minutes\n",
    "    'rating': [5, 3, 4, np.nan, 5, 2, 4, 5]\n",
    "})\n",
    "\n",
    "def top_genres_by_average_rating(df):\n",
    "    \"\"\"\n",
    "    Return average watch time and rating per genre.\n",
    "    Only include genres with avg_rating ≥ 4.\n",
    "    Sorted by avg_rating desc, then avg_watch_time desc.\n",
    "    \"\"\"\n",
    "    result = (\n",
    "        df\n",
    "        .dropna(subset=['genre'])  # ignore missing genres\n",
    "        .groupby('genre', as_index=False)\n",
    "        .agg({'watch_time': 'mean', 'rating': 'mean'})\n",
    "        .rename(columns={'watch_time': 'avg_watch_time', 'rating': 'avg_rating'})\n",
    "        .round(1)\n",
    "    )\n",
    "    result = result[result['avg_rating'] >= 4]\n",
    "    result = result.sort_values(by=['avg_rating', 'avg_watch_time'], ascending=[False, False])\n",
    "    return result\n",
    "\n",
    "top_genres_by_average_rating(df)"
   ]
  },
  {
   "cell_type": "code",
   "execution_count": 261,
   "id": "b63e76dd",
   "metadata": {},
   "outputs": [
    {
     "data": {
      "text/html": [
       "<div>\n",
       "<style scoped>\n",
       "    .dataframe tbody tr th:only-of-type {\n",
       "        vertical-align: middle;\n",
       "    }\n",
       "\n",
       "    .dataframe tbody tr th {\n",
       "        vertical-align: top;\n",
       "    }\n",
       "\n",
       "    .dataframe thead th {\n",
       "        text-align: right;\n",
       "    }\n",
       "</style>\n",
       "<table border=\"1\" class=\"dataframe\">\n",
       "  <thead>\n",
       "    <tr style=\"text-align: right;\">\n",
       "      <th></th>\n",
       "      <th>genre</th>\n",
       "      <th>avg_watch_time</th>\n",
       "      <th>avg_rating</th>\n",
       "      <th>session_count</th>\n",
       "      <th>score</th>\n",
       "    </tr>\n",
       "  </thead>\n",
       "  <tbody>\n",
       "    <tr>\n",
       "      <th>0</th>\n",
       "      <td>Action</td>\n",
       "      <td>123.33</td>\n",
       "      <td>4.67</td>\n",
       "      <td>3</td>\n",
       "      <td>4.80</td>\n",
       "    </tr>\n",
       "    <tr>\n",
       "      <th>1</th>\n",
       "      <td>Comedy</td>\n",
       "      <td>96.25</td>\n",
       "      <td>4.00</td>\n",
       "      <td>4</td>\n",
       "      <td>3.96</td>\n",
       "    </tr>\n",
       "    <tr>\n",
       "      <th>2</th>\n",
       "      <td>Drama</td>\n",
       "      <td>98.75</td>\n",
       "      <td>3.50</td>\n",
       "      <td>4</td>\n",
       "      <td>3.70</td>\n",
       "    </tr>\n",
       "  </tbody>\n",
       "</table>\n",
       "</div>"
      ],
      "text/plain": [
       "    genre  avg_watch_time  avg_rating  session_count  score\n",
       "0  Action          123.33        4.67              3   4.80\n",
       "1  Comedy           96.25        4.00              4   3.96\n",
       "2   Drama           98.75        3.50              4   3.70"
      ]
     },
     "execution_count": 261,
     "metadata": {},
     "output_type": "execute_result"
    }
   ],
   "source": [
    "df = pd.DataFrame({\n",
    "    'user': ['Alice','Bob','Alice','Chris','Bob','David','Alice','Eve','Chris','Eve','Alice'],\n",
    "    'genre': ['Drama','Comedy','Comedy','Action','Drama','Drama','Action','Comedy','Comedy','Action','Drama'],\n",
    "    'watch_time': [120,90,45,60,100,80,130,200,50,180,95],\n",
    "    'rating': [5,3,4,5,4,2,4,5,4,5,3]\n",
    "})\n",
    "def rank_genres(df):\n",
    "    result = df.groupby('genre', as_index=False).agg({'watch_time': 'mean', 'rating':'mean'})\n",
    "    count = df['genre'].value_counts()\n",
    "    merged = pd.merge(result, count, on='genre')\n",
    "\n",
    "    #score\n",
    "    max_watch_time = merged.max()['watch_time']\n",
    "    merged['score'] = (merged['rating']*0.6) + (0.4 * (merged['watch_time']/max_watch_time) * 5)\n",
    "\n",
    "    new = merged.sort_values(by='score', ascending=False)\n",
    "    renamed = new.rename(columns={'watch_time':'avg_watch_time','rating':'avg_rating','count':'session_count'})\n",
    "    return renamed.round(2)\n",
    "\n",
    "rank_genres(df)"
   ]
  },
  {
   "cell_type": "code",
   "execution_count": 336,
   "id": "18cf8d06",
   "metadata": {},
   "outputs": [
    {
     "data": {
      "text/html": [
       "<div>\n",
       "<style scoped>\n",
       "    .dataframe tbody tr th:only-of-type {\n",
       "        vertical-align: middle;\n",
       "    }\n",
       "\n",
       "    .dataframe tbody tr th {\n",
       "        vertical-align: top;\n",
       "    }\n",
       "\n",
       "    .dataframe thead th {\n",
       "        text-align: right;\n",
       "    }\n",
       "</style>\n",
       "<table border=\"1\" class=\"dataframe\">\n",
       "  <thead>\n",
       "    <tr style=\"text-align: right;\">\n",
       "      <th></th>\n",
       "      <th>genre</th>\n",
       "      <th>avg_watch_time</th>\n",
       "      <th>avg_rating</th>\n",
       "      <th>count</th>\n",
       "      <th>score</th>\n",
       "    </tr>\n",
       "  </thead>\n",
       "  <tbody>\n",
       "    <tr>\n",
       "      <th>2</th>\n",
       "      <td>Drama</td>\n",
       "      <td>110.0</td>\n",
       "      <td>4.50</td>\n",
       "      <td>3</td>\n",
       "      <td>4.65</td>\n",
       "    </tr>\n",
       "    <tr>\n",
       "      <th>0</th>\n",
       "      <td>Action</td>\n",
       "      <td>105.0</td>\n",
       "      <td>4.33</td>\n",
       "      <td>4</td>\n",
       "      <td>4.47</td>\n",
       "    </tr>\n",
       "  </tbody>\n",
       "</table>\n",
       "</div>"
      ],
      "text/plain": [
       "    genre  avg_watch_time  avg_rating  count  score\n",
       "2   Drama           110.0        4.50      3   4.65\n",
       "0  Action           105.0        4.33      4   4.47"
      ]
     },
     "execution_count": 336,
     "metadata": {},
     "output_type": "execute_result"
    }
   ],
   "source": [
    "df = pd.DataFrame({\n",
    "    'user': ['Alice','Bob','alice','Chris','bob','David','ALICE','Eve','chris','Eve','Alice','BOB'],\n",
    "    'genre': ['Drama ', 'comedy', 'Comedy', 'action', 'Drama', np.nan, 'ACTION ', 'comedy ', 'Action', 'Drama', 'ACTION', 'comedy'],\n",
    "    'watch_time': [120, 90, 45, 60, 100, 80, 130, 200, 50, np.nan, 180, 40],\n",
    "    'rating': [5, 3, 4, 5, np.nan, 2, 4, 5, 4, 4, np.nan, 3]\n",
    "})\n",
    "\n",
    "def clean_and_rank_genres(df):\n",
    "    '''\n",
    "    Clean, Aggregate, Filter, Score and Rank, Return\n",
    "    '''\n",
    "    df_clean = df.dropna(subset=['genre']).copy()\n",
    "    df_clean['genre'] = df_clean['genre'].str.title().str.strip()\n",
    "\n",
    "    df_agg = df_clean.groupby('genre', as_index=False)['rating'].mean()\n",
    "    df_agg = df_agg.rename(columns={'rating':'avg_rating'})\n",
    "    df_filled = df_clean.merge(df_agg, on='genre', how='left')\n",
    "    df_filled['rating'] = df_filled['rating'].fillna(df_filled['avg_rating'])\n",
    "\n",
    "    df_filled = df_filled.groupby('genre', as_index=False).agg({'watch_time': 'mean', 'rating': 'mean'})\n",
    "    df_filled = df_filled.rename(columns={'watch_time':'avg_watch_time', 'rating':'avg_rating'})\n",
    "    df_counts = df_clean['genre'].value_counts()\n",
    "\n",
    "    merged = pd.merge(df_filled, df_counts, on='genre')\n",
    "    merged = merged[merged['avg_rating']>= 4]\n",
    "\n",
    "    max_watch_time = merged.max()['avg_watch_time']\n",
    "    merged['score'] = (merged['avg_rating']*0.7) + (0.3 * (merged['avg_watch_time']/max_watch_time) * 5)\n",
    "    merged = merged.sort_values(by='score', ascending=False)\n",
    "    return merged.round(2)\n",
    "\n",
    "'''\n",
    "    df_filled = df_clean.merge(df_agg, on='genre', how='left')\n",
    "    df_filled['rating'] = df_filled['rating'].fillna(df_filled['avg_rating'])\n",
    "    print(df_filled)\n",
    "\n",
    "    #aggregate\n",
    "    df_filled_agg = df_filled.groupby('genre',as_index=False)['watch_time'].mean().rename(columns={'watch_time':'avg_watch_time'})\n",
    "    print(df_filled_agg)\n",
    "'''\n",
    "clean_and_rank_genres(df)"
   ]
  },
  {
   "cell_type": "code",
   "execution_count": 356,
   "id": "a57adf11",
   "metadata": {},
   "outputs": [
    {
     "name": "stdout",
     "output_type": "stream",
     "text": [
      "True\n",
      "True\n",
      "True\n",
      "False\n"
     ]
    }
   ],
   "source": [
    "def is_balanced(s):\n",
    "    square_count = 0\n",
    "    round_count = 0\n",
    "    curl_count = 0\n",
    "    for x in list(s):\n",
    "        if x == '[':\n",
    "            square_count += 1\n",
    "        elif x == ']':\n",
    "            square_count -= 1\n",
    "        elif x == '(':\n",
    "            round_count += 1\n",
    "        elif x == ')':\n",
    "            round_count -= 1\n",
    "        if x == '{':\n",
    "            curl_count += 1\n",
    "        elif x == '}':\n",
    "            curl_count -= 1\n",
    "    \n",
    "    if square_count == round_count == curl_count == 0:\n",
    "        return True\n",
    "    else:\n",
    "        return False\n",
    "\n",
    "\n",
    "\n",
    "#is_balanced(\"({[})\")\n",
    "print(is_balanced(\"()[]{}\"))   # ✅ True\n",
    "print(is_balanced(\"([)]\"))     # ❌ False\n",
    "print(is_balanced(\"({[]})\"))   # ✅ True\n",
    "print(is_balanced(\"({[})\"))    # ❌ False\n",
    "\n"
   ]
  },
  {
   "cell_type": "code",
   "execution_count": 375,
   "id": "77ae6fac",
   "metadata": {},
   "outputs": [
    {
     "data": {
      "text/plain": [
       "{'data': 2, 'science': 1, 'is': 2, 'fun': 1, 'and': 1, 'powerful': 1}"
      ]
     },
     "execution_count": 375,
     "metadata": {},
     "output_type": "execute_result"
    }
   ],
   "source": [
    "import string\n",
    "def word_frequency(test):\n",
    "    #strip punctuation method\n",
    "    def remove_punctuation(text):\n",
    "        translator = str.maketrans('', '', string.punctuation)\n",
    "        clean = text.translate(translator)\n",
    "        return clean\n",
    "    \n",
    "    out = remove_punctuation(test)\n",
    "    # lower case and create a list of words\n",
    "    sentence = out.lower().split( )\n",
    "    #print(sentence)\n",
    "\n",
    "    word_counter_dict = {}\n",
    "    for word in sentence:\n",
    "        if word in word_counter_dict:\n",
    "            word_counter_dict[word] += 1\n",
    "        else:\n",
    "            word_counter_dict[word] = 1\n",
    "\n",
    "    return word_counter_dict\n",
    "\n",
    "        \n",
    "    \n",
    "word_frequency('Data science is fun, and data is powerful!')"
   ]
  },
  {
   "cell_type": "code",
   "execution_count": 385,
   "id": "d5098756",
   "metadata": {},
   "outputs": [
    {
     "data": {
      "text/plain": [
       "{'Charlie': 250, 'Diana': 200, 'Bob': 150, 'Alice': 120}"
      ]
     },
     "execution_count": 385,
     "metadata": {},
     "output_type": "execute_result"
    }
   ],
   "source": [
    "sales_a = {'Alice': 120, 'Bob': 80, 'Charlie': 150}\n",
    "sales_b = {'Bob': 70, 'Diana': 200, 'Charlie': 100}\n",
    "\n",
    "def merge_and_rank(sales_a, sales_b):\n",
    "    merged = {}\n",
    "    for name, amount in sales_a.items():\n",
    "        merged[name] = merged.get(name, 0) + amount\n",
    "\n",
    "    for name, amount in sales_b.items():\n",
    "        merged[name] = merged.get(name, 0) + amount \n",
    "    \n",
    "    sorted_sales = sorted(merged.items(), key=lambda x: x[1], reverse = True)\n",
    "    return dict(sorted_sales)\n",
    "\n",
    "\n",
    "merge_and_rank(sales_a, sales_b)"
   ]
  },
  {
   "cell_type": "code",
   "execution_count": 414,
   "id": "047d6263",
   "metadata": {},
   "outputs": [
    {
     "data": {
      "text/plain": [
       "'a2b5c1d1'"
      ]
     },
     "execution_count": 414,
     "metadata": {},
     "output_type": "execute_result"
    }
   ],
   "source": [
    "def compress_strings(s):\n",
    "    if not s:\n",
    "        return None\n",
    "    letters = list(s)\n",
    "    compressed = []\n",
    "    counter = 1\n",
    "    for x in range(1, len(letters)):\n",
    "        if letters[x] == letters[x-1]:\n",
    "            counter += 1\n",
    "            #print(letters[x-1], counter)\n",
    "            if x == len(letters) -1:\n",
    "                compressed.append(letters[-1])\n",
    "                compressed.append(counter)\n",
    "        elif letters[x] != letters[x-1]:\n",
    "            compressed.append(letters[x-1])\n",
    "            compressed.append(counter)\n",
    "            counter = 1\n",
    "            if x == len(letters)-1:\n",
    "                 compressed.append(letters[-1])\n",
    "                 compressed.append(counter)\n",
    "    compressed_str = \"\".join(map(str, compressed))\n",
    "    return compressed_str\n",
    "\n",
    "compress_strings('aabbbbbcd')"
   ]
  },
  {
   "cell_type": "code",
   "execution_count": 460,
   "id": "aac01540",
   "metadata": {},
   "outputs": [
    {
     "data": {
      "text/plain": [
       "[5, 7, 2, 4, 4.5, 4.5, 4, 2, 4, 2, 4]"
      ]
     },
     "execution_count": 460,
     "metadata": {},
     "output_type": "execute_result"
    }
   ],
   "source": [
    "import statistics\n",
    "def correct_sensor_drift(readings: list[int]) -> list[int]:\n",
    "    '''\n",
    "    A function that replaces each drift \n",
    "    value with the median of the previous 5 readings \n",
    "    (or fewer if there are less than 5 previous values).\n",
    "    '''\n",
    "    # calculate median of previous numbers\n",
    "    if not readings:\n",
    "        return []\n",
    "    readings = readings.copy()\n",
    "    \n",
    "    def calculate_median(y):\n",
    "        if y>5:\n",
    "\n",
    "            median = statistics.median(readings[i] for i in range(y-5, y))\n",
    "        elif 0<  y < 6:\n",
    "            median = statistics.median(readings[i] for i in range(0, y))\n",
    "        return median\n",
    "    \n",
    "    for x in range(1, len(readings)):\n",
    "        median = calculate_median(x)\n",
    "        if readings[x] > 2*median:\n",
    "            readings[x] = median   #replace with median\n",
    "    \n",
    "    return readings\n",
    "\n",
    "readings = [5,7,2,4,100,14,4,2,66,2,4]\n",
    "correct_sensor_drift(readings)\n"
   ]
  },
  {
   "cell_type": "code",
   "execution_count": 479,
   "id": "9b2ec1a9",
   "metadata": {},
   "outputs": [
    {
     "data": {
      "text/plain": [
       "1"
      ]
     },
     "execution_count": 479,
     "metadata": {},
     "output_type": "execute_result"
    }
   ],
   "source": [
    "def longest_streak(steps: list[int]) -> int:\n",
    "    # your code here\n",
    "    if not steps:\n",
    "        return 0\n",
    "    \n",
    "    current_streak = 1\n",
    "    max_streak = 1\n",
    "\n",
    "    for i in range(1, len(steps)):\n",
    "        if steps[i] > steps[i-1]:\n",
    "            current_streak += 1\n",
    "            max_streak = max(current_streak, max_streak)\n",
    "        else:\n",
    "            max_streak = max(current_streak, max_streak)\n",
    "            current_streak = 1\n",
    "\n",
    "    return max_streak\n",
    "\n",
    "steps = [5000, 5000]\n",
    "longest_streak(steps)"
   ]
  }
 ],
 "metadata": {
  "kernelspec": {
   "display_name": "Python 3",
   "language": "python",
   "name": "python3"
  },
  "language_info": {
   "codemirror_mode": {
    "name": "ipython",
    "version": 3
   },
   "file_extension": ".py",
   "mimetype": "text/x-python",
   "name": "python",
   "nbconvert_exporter": "python",
   "pygments_lexer": "ipython3",
   "version": "3.11.13"
  }
 },
 "nbformat": 4,
 "nbformat_minor": 5
}
