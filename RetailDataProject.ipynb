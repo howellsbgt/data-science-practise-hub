{
 "cells": [
  {
   "cell_type": "code",
   "execution_count": 24,
   "id": "4c94a809",
   "metadata": {},
   "outputs": [
    {
     "name": "stdout",
     "output_type": "stream",
     "text": [
      "   OrderID Product Category  Quantity  Price       Date  Revenue\n",
      "0        1   Pants    Women         4     39 2023-01-01      156\n",
      "1        2     Hat     Kids         1     32 2023-01-02       32\n",
      "2        3   Shoes      Men         1     14 2023-01-03       14\n",
      "3        4   Pants      Men         1     93 2023-01-04       93\n",
      "4        5   Pants      Men         2     74 2023-01-05      148\n"
     ]
    }
   ],
   "source": [
    "import numpy as np\n",
    "import pandas as pd\n",
    "\n",
    "np.random.seed(42) # Set seed for reproducibility\n",
    "\n",
    "# Generate sample data\n",
    "n = 1000\n",
    "data = {\n",
    "    \"OrderID\": np.arange(1, n+1),\n",
    "    \"Product\": np.random.choice([\"Shoes\", \"Shirt\", \"Pants\", \"Hat\"], size=n),\n",
    "    \"Category\": np.random.choice([\"Men\", \"Women\", \"Kids\"], size=n),\n",
    "    \"Quantity\": np.random.randint(1, 5, size=n),\n",
    "    \"Price\": np.random.randint(10, 100, size=n),\n",
    "    \"Date\": pd.date_range(start=\"2023-01-01\", periods=n, freq=\"D\")\n",
    "}\n",
    "\n",
    "\n",
    "df = pd.DataFrame(data)\n",
    "df[\"Revenue\"] = df[\"Quantity\"] * df[\"Price\"]\n",
    "print(df.head())"
   ]
  },
  {
   "cell_type": "code",
   "execution_count": 25,
   "id": "ae0a4e02",
   "metadata": {},
   "outputs": [
    {
     "name": "stdout",
     "output_type": "stream",
     "text": [
      "           OrderID     Quantity        Price                 Date      Revenue\n",
      "count  1000.000000  1000.000000  1000.000000                 1000  1000.000000\n",
      "mean    500.500000     2.493000    53.487000  2024-05-14 12:00:00   132.501000\n",
      "min       1.000000     1.000000    10.000000  2023-01-01 00:00:00    10.000000\n",
      "25%     250.750000     1.000000    30.000000  2023-09-07 18:00:00    60.000000\n",
      "50%     500.500000     2.000000    53.000000  2024-05-14 12:00:00   105.500000\n",
      "75%     750.250000     4.000000    76.000000  2025-01-19 06:00:00   190.000000\n",
      "max    1000.000000     4.000000    99.000000  2025-09-26 00:00:00   396.000000\n",
      "std     288.819436     1.124818    26.240053                  NaN    91.089337\n"
     ]
    }
   ],
   "source": [
    "print(df.describe())"
   ]
  },
  {
   "cell_type": "code",
   "execution_count": 26,
   "id": "2e7db860",
   "metadata": {},
   "outputs": [
    {
     "name": "stdout",
     "output_type": "stream",
     "text": [
      "The mean Revenue is 132.501\n"
     ]
    },
    {
     "data": {
      "text/html": [
       "<div>\n",
       "<style scoped>\n",
       "    .dataframe tbody tr th:only-of-type {\n",
       "        vertical-align: middle;\n",
       "    }\n",
       "\n",
       "    .dataframe tbody tr th {\n",
       "        vertical-align: top;\n",
       "    }\n",
       "\n",
       "    .dataframe thead th {\n",
       "        text-align: right;\n",
       "    }\n",
       "</style>\n",
       "<table border=\"1\" class=\"dataframe\">\n",
       "  <thead>\n",
       "    <tr style=\"text-align: right;\">\n",
       "      <th>Product</th>\n",
       "      <th>Hat</th>\n",
       "      <th>Pants</th>\n",
       "      <th>Shirt</th>\n",
       "      <th>Shoes</th>\n",
       "    </tr>\n",
       "    <tr>\n",
       "      <th>Category</th>\n",
       "      <th></th>\n",
       "      <th></th>\n",
       "      <th></th>\n",
       "      <th></th>\n",
       "    </tr>\n",
       "  </thead>\n",
       "  <tbody>\n",
       "    <tr>\n",
       "      <th>Kids</th>\n",
       "      <td>12733</td>\n",
       "      <td>9373</td>\n",
       "      <td>11167</td>\n",
       "      <td>9552</td>\n",
       "    </tr>\n",
       "    <tr>\n",
       "      <th>Men</th>\n",
       "      <td>13616</td>\n",
       "      <td>12065</td>\n",
       "      <td>9865</td>\n",
       "      <td>10815</td>\n",
       "    </tr>\n",
       "    <tr>\n",
       "      <th>Women</th>\n",
       "      <td>12512</td>\n",
       "      <td>9604</td>\n",
       "      <td>8553</td>\n",
       "      <td>12646</td>\n",
       "    </tr>\n",
       "  </tbody>\n",
       "</table>\n",
       "</div>"
      ],
      "text/plain": [
       "Product     Hat  Pants  Shirt  Shoes\n",
       "Category                            \n",
       "Kids      12733   9373  11167   9552\n",
       "Men       13616  12065   9865  10815\n",
       "Women     12512   9604   8553  12646"
      ]
     },
     "execution_count": 26,
     "metadata": {},
     "output_type": "execute_result"
    }
   ],
   "source": [
    "print(\"The mean Revenue is\", df[\"Revenue\"].mean())\n",
    "pd.pivot_table(df, values=\"Revenue\", index=\"Category\", columns=\"Product\", aggfunc=\"sum\")"
   ]
  },
  {
   "cell_type": "code",
   "execution_count": null,
   "id": "f3c34639",
   "metadata": {},
   "outputs": [],
   "source": []
  }
 ],
 "metadata": {
  "kernelspec": {
   "display_name": "Python 3",
   "language": "python",
   "name": "python3"
  },
  "language_info": {
   "codemirror_mode": {
    "name": "ipython",
    "version": 3
   },
   "file_extension": ".py",
   "mimetype": "text/x-python",
   "name": "python",
   "nbconvert_exporter": "python",
   "pygments_lexer": "ipython3",
   "version": "3.11.13"
  }
 },
 "nbformat": 4,
 "nbformat_minor": 5
}
