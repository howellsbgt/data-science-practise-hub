{
 "cells": [
  {
   "cell_type": "code",
   "execution_count": 14,
   "id": "a5ad2469",
   "metadata": {},
   "outputs": [
    {
     "data": {
      "text/plain": [
       "'nose big a have I'"
      ]
     },
     "execution_count": 14,
     "metadata": {},
     "output_type": "execute_result"
    }
   ],
   "source": [
    "import pandas as pd\n",
    "import numpy as np\n",
    "\n",
    "def reverse_words(sentence):\n",
    "    words = sentence.split( )\n",
    "    reverse = words[::-1]\n",
    "    joined = ' '.join(reverse)\n",
    "    return joined\n",
    "\n",
    "reverse_words('I have a big nose')\n"
   ]
  },
  {
   "cell_type": "code",
   "execution_count": 23,
   "id": "896c6cb9",
   "metadata": {},
   "outputs": [
    {
     "data": {
      "text/plain": [
       "{'b': 1, 'a': 3, 'n': 2}"
      ]
     },
     "execution_count": 23,
     "metadata": {},
     "output_type": "execute_result"
    }
   ],
   "source": [
    "def count_unique_characters(word):\n",
    "    letters = list(word)\n",
    "    unique_count = {}\n",
    "\n",
    "    for x in letters:\n",
    "        if x not in unique_count:\n",
    "            unique_count[x] = 1\n",
    "        else:\n",
    "            unique_count[x] += 1\n",
    "\n",
    "    return unique_count\n",
    "\n",
    "count_unique_characters('banana')"
   ]
  },
  {
   "cell_type": "code",
   "execution_count": 38,
   "id": "d1cb59b3",
   "metadata": {},
   "outputs": [
    {
     "data": {
      "text/plain": [
       "[4, 4, 16, 16, 16, 16]"
      ]
     },
     "execution_count": 38,
     "metadata": {},
     "output_type": "execute_result"
    }
   ],
   "source": [
    "def even_squares(nums):\n",
    "    even_nums = [x for x in nums if x%2 == 0]\n",
    "    squares = [x**2 for x in even_nums]\n",
    "    return squares\n",
    "\n",
    "even_squares([1,2,2,3,3,4,4,4,4,5])"
   ]
  },
  {
   "cell_type": "code",
   "execution_count": 41,
   "id": "687407ef",
   "metadata": {},
   "outputs": [
    {
     "data": {
      "text/plain": [
       "[55, 100, 55]"
      ]
     },
     "execution_count": 41,
     "metadata": {},
     "output_type": "execute_result"
    }
   ],
   "source": [
    "def greater_than_avg(nums):\n",
    "    return [x for x in nums if x > np.mean(nums)]\n",
    "\n",
    "greater_than_avg([2,55,32,100,55,34,30])"
   ]
  },
  {
   "cell_type": "code",
   "execution_count": 67,
   "id": "cc99d9e2",
   "metadata": {},
   "outputs": [
    {
     "data": {
      "text/plain": [
       "{'A': 15, 'B': 15}"
      ]
     },
     "execution_count": 67,
     "metadata": {},
     "output_type": "execute_result"
    }
   ],
   "source": [
    "def tally_words(sentence):\n",
    "    totals = {}\n",
    "\n",
    "    for x in sentence:\n",
    "        key = x[0]\n",
    "        value = x[1]\n",
    "\n",
    "        if key not in totals:\n",
    "            totals[key] = value\n",
    "        else:\n",
    "            totals[key] += value\n",
    "\n",
    "    return totals\n",
    "    \n",
    "tally_words([('A',10),('B',15),('A',5)])"
   ]
  },
  {
   "cell_type": "code",
   "execution_count": 77,
   "id": "6f567178",
   "metadata": {},
   "outputs": [
    {
     "data": {
      "text/plain": [
       "[1, 2, 3, 1, 5]"
      ]
     },
     "execution_count": 77,
     "metadata": {},
     "output_type": "execute_result"
    }
   ],
   "source": [
    "def remove_cons_dupl(nums):\n",
    "    '''\n",
    "    Removes consecutive duplicate numbers\n",
    "    '''\n",
    "    if not nums:\n",
    "        return []\n",
    "    non_repeating = [nums[0]]\n",
    "    for x in range(1, len(nums)):\n",
    "        if nums[x] != nums[x-1]:\n",
    "            non_repeating.append(nums[x])\n",
    "        \n",
    "    return non_repeating\n",
    "\n",
    "remove_cons_dupl([1,1,2,2,2,2,3,1,5,5])"
   ]
  },
  {
   "cell_type": "code",
   "execution_count": 97,
   "id": "d2babb6a",
   "metadata": {},
   "outputs": [
    {
     "name": "stdout",
     "output_type": "stream",
     "text": [
      "[1, 2, 3, 4, 5, 6, 8, 7]\n"
     ]
    }
   ],
   "source": [
    "'''Not Complete'''\n",
    "def min_swaps_alternating_parity(nums: list[int]) -> int:\n",
    "    # your code\n",
    "    if not nums:\n",
    "        return -1\n",
    "\n",
    "    print(nums)\n",
    "    for x in range(1, len(nums)):\n",
    "        if nums[x]%2 != nums[x-1]%2 and nums[0]%2 != nums[-1]%2:\n",
    "            return 0\n",
    "    odd_count = 0\n",
    "    even_count = 0\n",
    "    for num in nums:\n",
    "        if num% 2 != 0:\n",
    "            odd_count+= 1\n",
    "        else:\n",
    "            even_count += 1\n",
    "    if odd_count != even_count:\n",
    "            return -1\n",
    "    \n",
    "    \n",
    "\n",
    "min_swaps_alternating_parity([1,2,3,4,5,6,8,7])\n"
   ]
  },
  {
   "cell_type": "code",
   "execution_count": 136,
   "id": "a6ea1008",
   "metadata": {},
   "outputs": [
    {
     "data": {
      "text/plain": [
       "10"
      ]
     },
     "execution_count": 136,
     "metadata": {},
     "output_type": "execute_result"
    }
   ],
   "source": [
    "def longest_balanced_substring(s):\n",
    " \n",
    "    max_len= 0\n",
    "    balance = 0 # like a counter\n",
    "    current_len = 0\n",
    "    letters = list(s)\n",
    "\n",
    "    for letter in letters:\n",
    "        if letter == 'L':\n",
    "            balance += 1\n",
    "            current_len += 1\n",
    "        elif letter == 'R':\n",
    "            balance -= 1\n",
    "            current_len += 1\n",
    "        if balance == 0:\n",
    "            max_len = max(max_len, current_len)\n",
    "\n",
    "    return max_len\n",
    "\n",
    "\n",
    "longest_balanced_substring('RLRRLLRLRL')"
   ]
  },
  {
   "cell_type": "code",
   "execution_count": 157,
   "id": "557c69c2",
   "metadata": {},
   "outputs": [
    {
     "data": {
      "text/html": [
       "<div>\n",
       "<style scoped>\n",
       "    .dataframe tbody tr th:only-of-type {\n",
       "        vertical-align: middle;\n",
       "    }\n",
       "\n",
       "    .dataframe tbody tr th {\n",
       "        vertical-align: top;\n",
       "    }\n",
       "\n",
       "    .dataframe thead th {\n",
       "        text-align: right;\n",
       "    }\n",
       "</style>\n",
       "<table border=\"1\" class=\"dataframe\">\n",
       "  <thead>\n",
       "    <tr style=\"text-align: right;\">\n",
       "      <th></th>\n",
       "      <th>plan</th>\n",
       "      <th>total_revenue</th>\n",
       "      <th>avg_customer_revenue</th>\n",
       "      <th>unique_customers</th>\n",
       "    </tr>\n",
       "  </thead>\n",
       "  <tbody>\n",
       "    <tr>\n",
       "      <th>1</th>\n",
       "      <td>Premium</td>\n",
       "      <td>170</td>\n",
       "      <td>42.5</td>\n",
       "      <td>4</td>\n",
       "    </tr>\n",
       "    <tr>\n",
       "      <th>0</th>\n",
       "      <td>Basic</td>\n",
       "      <td>90</td>\n",
       "      <td>22.5</td>\n",
       "      <td>4</td>\n",
       "    </tr>\n",
       "  </tbody>\n",
       "</table>\n",
       "</div>"
      ],
      "text/plain": [
       "      plan  total_revenue  avg_customer_revenue  unique_customers\n",
       "1  Premium            170                  42.5                 4\n",
       "0    Basic             90                  22.5                 4"
      ]
     },
     "execution_count": 157,
     "metadata": {},
     "output_type": "execute_result"
    }
   ],
   "source": [
    "import pandas as pd\n",
    "import numpy as np\n",
    "\n",
    "df = pd.DataFrame({\n",
    "    'customer': ['Alice','Bob','Alice','David','Bob','Chris','Alice','Chris','Eve','Eve','David','Alice'],\n",
    "    'plan': ['Basic','Premium','Premium','Basic','Basic','Premium','Premium','Premium','Basic','Premium','Basic','Basic'],\n",
    "    'month': ['Jan','Jan','Feb','Feb','Feb','Jan','Mar','Mar','Jan','Feb','Mar','Apr'],\n",
    "    'amount': [15,30,25,15,15,30,30,30,15,25,15,15]\n",
    "})\n",
    "\n",
    "\n",
    "def plan_summary(df):\n",
    "    '''\n",
    "    Sort by total revenue across all months per plan\n",
    "    Return no. unique customers for each plan type\n",
    "    Return average total spend per customer in each plan\n",
    "    '''\n",
    "    #groupby customer and plan to get total spend per customer\n",
    "    customer_spend = df.groupby(['plan', 'customer'], as_index=False)['amount'].sum()\n",
    "\n",
    "    summary = customer_spend.groupby('plan').agg(total_revenue=('amount','sum'),\n",
    "    avg_customer_revenue = ('amount', 'mean'),\n",
    "    unique_customers=('customer', 'nunique')).reset_index()\n",
    "\n",
    "    #sort by total revenue in descending order\n",
    "    summary = summary.sort_values(by='total_revenue', ascending=False).round(2)\n",
    "    return summary\n",
    "\n",
    "plan_summary(df)"
   ]
  },
  {
   "cell_type": "code",
   "execution_count": 177,
   "id": "e136ab1b",
   "metadata": {},
   "outputs": [
    {
     "data": {
      "text/plain": [
       "0"
      ]
     },
     "execution_count": 177,
     "metadata": {},
     "output_type": "execute_result"
    }
   ],
   "source": [
    "def max_concurrent_viewers(events: list[tuple[int, int, str]]) -> int:\n",
    "    # your code here\n",
    "    if not events:\n",
    "        return 0\n",
    "    sorted_events = sorted(events, key=lambda x:x[1])\n",
    "    current_count = 0\n",
    "    max_count = 0\n",
    "\n",
    "    for x in sorted_events:\n",
    "        if x[2] == 'join':\n",
    "            current_count += 1\n",
    "            max_count = max(current_count, max_count)\n",
    "        elif x[2] == 'leave':\n",
    "            current_count -= 1\n",
    "            max_count = max(current_count, max_count)\n",
    "    \n",
    "    return max_count\n",
    "\n",
    "events = [(1, 5, 'leave'), (1, 5, 'join')]\n",
    "\n",
    "max_concurrent_viewers(events)"
   ]
  },
  {
   "cell_type": "code",
   "execution_count": 1,
   "id": "7cf09d13",
   "metadata": {},
   "outputs": [
    {
     "data": {
      "text/plain": [
       "(3, 5)"
      ]
     },
     "execution_count": 1,
     "metadata": {},
     "output_type": "execute_result"
    }
   ],
   "source": [
    "def busiest_period(logs: list[tuple[int, int, str]]) -> tuple[int, int]:\n",
    "    # returns (start_time, end_time)\n",
    "    if not logs:\n",
    "        return None\n",
    "    \n",
    "    \n",
    "    sorted_logs = sorted(logs, key=lambda x: (x[0], x[2] =='exit'))\n",
    "\n",
    "    current_count = 0\n",
    "    max_count = 0\n",
    "    max_start_time = 0\n",
    "    max_end_time = 0\n",
    "\n",
    "    for x in range (len(sorted_logs)):\n",
    "        timestamp, count, action = sorted_logs[x]\n",
    "        if action == 'enter':\n",
    "            current_count += count\n",
    "        else:\n",
    "            current_count -= count\n",
    "\n",
    "        if x < len(sorted_logs) - 1:\n",
    "            next_timestamp = sorted_logs[x + 1][0]\n",
    "        else:\n",
    "             next_timestamp = timestamp\n",
    "\n",
    "        if current_count > max_count:\n",
    "            max_count = current_count\n",
    "            max_start_time = timestamp\n",
    "            max_end_time = next_timestamp\n",
    "\n",
    "    return (max_start_time, max_end_time)\n",
    "\n",
    "\n",
    "\n",
    "logs = [\n",
    "    (1, 3, 'enter'),\n",
    "    (2, 2, 'exit'),\n",
    "    (3, 5, 'enter'),\n",
    "    (5, 3, 'exit'),\n",
    "    (6, 2, 'enter')\n",
    "]\n",
    "\n",
    "busiest_period(logs)"
   ]
  },
  {
   "cell_type": "code",
   "execution_count": 223,
   "id": "33606d09",
   "metadata": {},
   "outputs": [
    {
     "ename": "TypeError",
     "evalue": "'int' object is not subscriptable",
     "output_type": "error",
     "traceback": [
      "\u001b[31m---------------------------------------------------------------------------\u001b[39m",
      "\u001b[31mTypeError\u001b[39m                                 Traceback (most recent call last)",
      "\u001b[36mCell\u001b[39m\u001b[36m \u001b[39m\u001b[32mIn[223]\u001b[39m\u001b[32m, line 36\u001b[39m\n\u001b[32m     24\u001b[39m     \u001b[38;5;28;01mreturn\u001b[39;00m anomolous_customers\n\u001b[32m     26\u001b[39m transactions = [\n\u001b[32m     27\u001b[39m     (\u001b[32m1\u001b[39m, \u001b[32m20.0\u001b[39m),\n\u001b[32m     28\u001b[39m     (\u001b[32m2\u001b[39m, \u001b[32m35.0\u001b[39m),\n\u001b[32m   (...)\u001b[39m\u001b[32m     33\u001b[39m     (\u001b[32m2\u001b[39m, \u001b[32m45.0\u001b[39m)\n\u001b[32m     34\u001b[39m ]\n\u001b[32m---> \u001b[39m\u001b[32m36\u001b[39m \u001b[43mfind_anomalous_customers\u001b[49m\u001b[43m(\u001b[49m\u001b[43mtransactions\u001b[49m\u001b[43m)\u001b[49m\n",
      "\u001b[36mCell\u001b[39m\u001b[36m \u001b[39m\u001b[32mIn[223]\u001b[39m\u001b[32m, line 21\u001b[39m, in \u001b[36mfind_anomalous_customers\u001b[39m\u001b[34m(transactions)\u001b[39m\n\u001b[32m     19\u001b[39m anomolous_customers = []\n\u001b[32m     20\u001b[39m \u001b[38;5;28;01mfor\u001b[39;00m x \u001b[38;5;129;01min\u001b[39;00m customer_means:\n\u001b[32m---> \u001b[39m\u001b[32m21\u001b[39m     \u001b[38;5;28;01mif\u001b[39;00m \u001b[43mx\u001b[49m\u001b[43m[\u001b[49m\u001b[32;43m1\u001b[39;49m\u001b[43m]\u001b[49m > global_mean + \u001b[32m2\u001b[39m*global_stdev:\n\u001b[32m     22\u001b[39m         anomolous_customers.append[x]\n\u001b[32m     24\u001b[39m \u001b[38;5;28;01mreturn\u001b[39;00m anomolous_customers\n",
      "\u001b[31mTypeError\u001b[39m: 'int' object is not subscriptable"
     ]
    }
   ],
   "source": [
    "import statistics\n",
    "def find_anomalous_customers(transactions: list[tuple[int, float]]) -> list[int]:\n",
    "    # your code here\n",
    "    if not transactions:\n",
    "        return None\n",
    "   \n",
    "    customer_amounts = {}\n",
    "    #Group transactions by cusomer\n",
    "    for id, amount in transactions:\n",
    "        customer_amounts.setdefault(id, []).append(amount)\n",
    "\n",
    "        #Compute mean for each customer\n",
    "        customer_means = {id: statistics.mean(amounts) for id, amounts in customer_amounts.items()}\n",
    "\n",
    "    all_means = list(customer_means.values())\n",
    "    global_mean = statistics.mean(all_means)\n",
    "    global_stdev = statistics.stdev(all_means)\n",
    "\n",
    "    anomolous_customers = []\n",
    "    for x in customer_means:\n",
    "        if x[1] > global_mean + 2*global_stdev:\n",
    "            anomolous_customers.append[x]\n",
    "\n",
    "    return anomolous_customers\n",
    "\n",
    "transactions = [\n",
    "    (1, 20.0),\n",
    "    (2, 35.0),\n",
    "    (1, 25.0),\n",
    "    (3, 300.0),\n",
    "    (3, 250.0),\n",
    "    (4, 40.0),\n",
    "    (2, 45.0)\n",
    "]\n",
    "\n",
    "find_anomalous_customers(transactions)"
   ]
  },
  {
   "cell_type": "code",
   "execution_count": 249,
   "id": "09d54461",
   "metadata": {},
   "outputs": [],
   "source": [
    "def total_spend_per_customer(purchases):\n",
    "    \"\"\"\n",
    "    purchases: list of dicts with keys ['customer_id', 'product', 'quantity', 'price']\n",
    "    Returns: list of tuples (customer_id, total_spend), sorted descending by spend\n",
    "    \"\"\"\n",
    "    from collections import defaultdict\n",
    "    combined_ids = defaultdict(list)\n",
    "    total_spend = defaultdict(float)\n",
    "\n",
    "    for d in purchases:\n",
    "        cust_id = d['customer_id']\n",
    "        #calculate amount of spend = price * quantity\n",
    "        spend = d['quantity'] * d['price']\n",
    "        total_spend[cust_id] += spend\n",
    "\n",
    "    sorted_customer_spend = sorted(total_spend.items(), key=lambda item: item[1], reverse=True)\n",
    "    \n",
    "    return sorted_customer_spend\n",
    "\n",
    "total_spend_per_customer(purchases)\n",
    "\n",
    "purchases = [\n",
    "        {'customer_id': 1, 'product': 'Book', 'quantity': 2, 'price': 10.00},\n",
    "        {'customer_id': 2, 'product': 'Pen', 'quantity': 5, 'price': 2.50},\n",
    "        {'customer_id': 1, 'product': 'Notebook', 'quantity': 1, 'price': 6.00},\n",
    "        {'customer_id': 3, 'product': 'Book', 'quantity': 1, 'price': 10.00},\n",
    "        {'customer_id': 2, 'product': 'Book', 'quantity': 3, 'price': 10.00}\n",
    "]"
   ]
  },
  {
   "cell_type": "code",
   "execution_count": null,
   "id": "d6ad253f",
   "metadata": {},
   "outputs": [
    {
     "data": {
      "text/plain": [
       "0"
      ]
     },
     "execution_count": 305,
     "metadata": {},
     "output_type": "execute_result"
    }
   ],
   "source": [
    "def max_subarray_sum(nums, k):\n",
    "    \"\"\"\n",
    "    nums: list[int]\n",
    "    k: int\n",
    "    Returns: int – maximum sum of any contiguous subarray of length k\n",
    "    \"\"\"\n",
    "    if not nums or k <= 0 or len(nums) < k:\n",
    "        return 0\n",
    "    \n",
    "    current_count = 1\n",
    "    max_count = 1\n",
    "\n",
    "    current_sum = sum(nums[:k])\n",
    "    max_sum = current_sum\n",
    "\n",
    "    for i in range(1, len(nums)):\n",
    "        if nums[i] - nums[i-1] == 1:\n",
    "            current_count += 1\n",
    "            max_count = max(current_count, max_count)\n",
    "\n",
    "            current_sum += nums[i] - nums[i - k]\n",
    "            max_sum = max(max_sum, current_sum)\n",
    "        \n",
    "    if max_count < k:\n",
    "        return 0\n",
    "    \n",
    "    return max_sum\n",
    "\n",
    "\n",
    "\n",
    "    \n",
    "nums = [1,2,3,4,5,6]\n",
    "k = 10\n",
    "max_subarray_sum(nums, k)"
   ]
  },
  {
   "cell_type": "code",
   "execution_count": 25,
   "id": "44ddc7fb",
   "metadata": {},
   "outputs": [
    {
     "data": {
      "text/plain": [
       "[(1, 6)]"
      ]
     },
     "execution_count": 25,
     "metadata": {},
     "output_type": "execute_result"
    }
   ],
   "source": [
    "def compress_readings(readings: list[int]) -> list[tuple[int, int]]:\n",
    "    if not readings:\n",
    "        return []\n",
    "    \n",
    "    #print(readings)\n",
    "    count = 1\n",
    "    compressed = []\n",
    "\n",
    "    for x in range(1, len(readings)):\n",
    "        if readings[x] == readings[x-1]:\n",
    "            count += 1\n",
    "        else:\n",
    "            compressed.append((readings[x-1], count))\n",
    "            count = 1\n",
    "\n",
    "    compressed.append((readings[-1], count))\n",
    "    return compressed\n",
    "compress_readings([1, 1, 1, 1,1,1])\n"
   ]
  },
  {
   "cell_type": "code",
   "execution_count": 30,
   "id": "d6ee7254",
   "metadata": {},
   "outputs": [
    {
     "name": "stdout",
     "output_type": "stream",
     "text": [
      "[0, 2, 4, 6, 8]\n"
     ]
    }
   ],
   "source": [
    "len = [x for x in range(10) if x%2 == 0]\n",
    "print(len)"
   ]
  },
  {
   "cell_type": "code",
   "execution_count": 50,
   "id": "5d6763ff",
   "metadata": {},
   "outputs": [
    {
     "data": {
      "text/plain": [
       "[1, 2, 3]"
      ]
     },
     "execution_count": 50,
     "metadata": {},
     "output_type": "execute_result"
    }
   ],
   "source": [
    "def duplicate_values(nums):\n",
    "    new_nums = []\n",
    "    duplicates = []\n",
    "\n",
    "    if not nums:\n",
    "        return None\n",
    "  \n",
    "    for i in nums:\n",
    "        \n",
    "        if i not in set(new_nums):\n",
    "            new_nums.append(i)\n",
    "        else:\n",
    "            duplicates.append(i)\n",
    "\n",
    "    return list(set(duplicates))\n",
    "\n",
    "duplicate_values([1,2,3,1,2,3,1,2,3,1,2,3])"
   ]
  },
  {
   "cell_type": "code",
   "execution_count": 108,
   "id": "d0635213",
   "metadata": {},
   "outputs": [
    {
     "name": "stdout",
     "output_type": "stream",
     "text": [
      "True\n",
      "True\n"
     ]
    }
   ],
   "source": [
    "#string shift\n",
    "\n",
    "def can_shift(A, B):\n",
    "\n",
    "    A = [x for x in A]\n",
    "    B = [x for x in B]\n",
    "    NA = A.copy()\n",
    "    NB = B.copy()\n",
    "    count = 0\n",
    "    if len(A) != len(B):\n",
    "        return False\n",
    "    if A == B:\n",
    "        return True\n",
    "  \n",
    "    for k in range(1, len(A)):\n",
    "        for i in range(len(A)):\n",
    "            NB[i] = B[i-k]\n",
    "            \n",
    "        if NB == A:\n",
    "            return True\n",
    "        else:\n",
    "            count += 1\n",
    "        \n",
    "    if count != 0:\n",
    "        return False\n",
    "\n",
    "def can_shift2(A,B):\n",
    "    if len(A) != len(B):\n",
    "        return False\n",
    "    \n",
    "    return B in A + A\n",
    "    \n",
    "\n",
    "A = 'bcdae'\n",
    "B = 'cdaeb'\n",
    "print(can_shift(A,B))\n",
    "print(can_shift2(A,B))\n",
    "\n",
    "\n",
    "    "
   ]
  },
  {
   "cell_type": "code",
   "execution_count": 138,
   "id": "791b5e10",
   "metadata": {},
   "outputs": [
    {
     "data": {
      "text/plain": [
       "[0, 1, 1, 2, 3, 5, 8, 13, 21, 34]"
      ]
     },
     "execution_count": 138,
     "metadata": {},
     "output_type": "execute_result"
    }
   ],
   "source": [
    "def calc_fibonacci(N):\n",
    "    if N < 1:\n",
    "        return None\n",
    "    if N == 1:\n",
    "        return [0]\n",
    "    \n",
    "    sequence = [0,1]\n",
    "    for i in range(2,N):\n",
    "        sequence.append(sequence[i-1] + sequence[i-2])\n",
    "\n",
    "    return sequence\n",
    "\n",
    "calc_fibonacci(10)"
   ]
  }
 ],
 "metadata": {
  "kernelspec": {
   "display_name": "Python 3",
   "language": "python",
   "name": "python3"
  },
  "language_info": {
   "codemirror_mode": {
    "name": "ipython",
    "version": 3
   },
   "file_extension": ".py",
   "mimetype": "text/x-python",
   "name": "python",
   "nbconvert_exporter": "python",
   "pygments_lexer": "ipython3",
   "version": "3.11.13"
  }
 },
 "nbformat": 4,
 "nbformat_minor": 5
}
